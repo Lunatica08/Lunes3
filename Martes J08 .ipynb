{
 "cells": [
  {
   "cell_type": "markdown",
   "id": "394720f5",
   "metadata": {},
   "source": [
    "# Tipos de datos"
   ]
  },
  {
   "cell_type": "code",
   "execution_count": null,
   "id": "48f0cbbe",
   "metadata": {},
   "outputs": [],
   "source": [
    " #int\n",
    "num = 7\n",
    "    \n",
    "#float\n",
    "num_dec = 10.4\n",
    "\n",
    "#string\n",
    "cadena = 'hola'\n",
    "\n",
    "#boolean\n",
    "fin = False"
   ]
  },
  {
   "cell_type": "code",
   "execution_count": 2,
   "id": "5c21d474",
   "metadata": {},
   "outputs": [
    {
     "name": "stdout",
     "output_type": "stream",
     "text": [
      "7\n"
     ]
    }
   ],
   "source": [
    "print (num)"
   ]
  },
  {
   "cell_type": "code",
   "execution_count": 3,
   "id": "cfa08229",
   "metadata": {},
   "outputs": [
    {
     "name": "stdout",
     "output_type": "stream",
     "text": [
      "10.4\n"
     ]
    }
   ],
   "source": [
    "print (num_dec)"
   ]
  },
  {
   "cell_type": "code",
   "execution_count": 4,
   "id": "81ba4005",
   "metadata": {},
   "outputs": [
    {
     "name": "stdout",
     "output_type": "stream",
     "text": [
      "hola\n"
     ]
    }
   ],
   "source": [
    "print (cadena)"
   ]
  },
  {
   "cell_type": "code",
   "execution_count": 5,
   "id": "332782e7",
   "metadata": {},
   "outputs": [
    {
     "name": "stdout",
     "output_type": "stream",
     "text": [
      "False\n"
     ]
    }
   ],
   "source": [
    "print (fin)"
   ]
  },
  {
   "cell_type": "code",
   "execution_count": 6,
   "id": "c8498b68",
   "metadata": {},
   "outputs": [
    {
     "name": "stdout",
     "output_type": "stream",
     "text": [
      "Introduce un nombre:\n",
      "Julia\n"
     ]
    }
   ],
   "source": [
    "nombre = input(\"Introduce un nombre:\\n\")"
   ]
  },
  {
   "cell_type": "code",
   "execution_count": 7,
   "id": "46d4fc61",
   "metadata": {},
   "outputs": [
    {
     "name": "stdout",
     "output_type": "stream",
     "text": [
      "Julia\n"
     ]
    }
   ],
   "source": [
    "print (nombre)"
   ]
  },
  {
   "cell_type": "code",
   "execution_count": 8,
   "id": "1030f3e7",
   "metadata": {
    "scrolled": true
   },
   "outputs": [
    {
     "name": "stdout",
     "output_type": "stream",
     "text": [
      "Introduce tu edad:\n",
      "16\n"
     ]
    }
   ],
   "source": [
    "edad = input(\"Introduce tu edad:\\n\")\n",
    "edad_int = int(edad)"
   ]
  },
  {
   "cell_type": "code",
   "execution_count": 12,
   "id": "44025c84",
   "metadata": {},
   "outputs": [
    {
     "name": "stdout",
     "output_type": "stream",
     "text": [
      "Introduce tu edad:\n",
      "16\n"
     ]
    }
   ],
   "source": [
    "edad = int(input(\"Introduce tu edad:\\n\"))"
   ]
  },
  {
   "cell_type": "code",
   "execution_count": 14,
   "id": "a8544c60",
   "metadata": {},
   "outputs": [
    {
     "data": {
      "text/plain": [
       "int"
      ]
     },
     "execution_count": 14,
     "metadata": {},
     "output_type": "execute_result"
    }
   ],
   "source": [
    "type(edad_int)"
   ]
  },
  {
   "cell_type": "code",
   "execution_count": 18,
   "id": "9dcaca99",
   "metadata": {},
   "outputs": [
    {
     "data": {
      "text/plain": [
       "int"
      ]
     },
     "execution_count": 18,
     "metadata": {},
     "output_type": "execute_result"
    }
   ],
   "source": [
    "type(edad)"
   ]
  },
  {
   "cell_type": "code",
   "execution_count": 17,
   "id": "3a94dc7d",
   "metadata": {},
   "outputs": [
    {
     "name": "stdout",
     "output_type": "stream",
     "text": [
      "hola Julia tienes 16 años\n"
     ]
    }
   ],
   "source": [
    "print(\"hola\", nombre, \"tienes\", edad_int, \"años\")"
   ]
  },
  {
   "cell_type": "code",
   "execution_count": 19,
   "id": "00972c5c",
   "metadata": {},
   "outputs": [
    {
     "name": "stdout",
     "output_type": "stream",
     "text": [
      "Intro numero:5\n",
      "Intro otro numero:6\n",
      "56\n"
     ]
    }
   ],
   "source": [
    "num1 = input('Intro numero:')\n",
    "num2 = input('Intro otro numero:')\n",
    "print(num1+num2)"
   ]
  },
  {
   "cell_type": "code",
   "execution_count": 20,
   "id": "f3f18515",
   "metadata": {},
   "outputs": [
    {
     "name": "stdout",
     "output_type": "stream",
     "text": [
      "Intro numero:4\n",
      "Intro otro numero:6\n",
      "10\n"
     ]
    }
   ],
   "source": [
    "num1 = int(input('Intro numero:'))\n",
    "num2 = int(input('Intro otro numero:'))\n",
    "print(num1+num2)"
   ]
  },
  {
   "cell_type": "code",
   "execution_count": 22,
   "id": "f06e9fac",
   "metadata": {},
   "outputs": [
    {
     "name": "stdout",
     "output_type": "stream",
     "text": [
      "Introduce temperatura36\n",
      "la temperatura en fahrenheit es 96.8\n"
     ]
    }
   ],
   "source": [
    "celsius = float(input('Introduce temperatura'))\n",
    "fahrenheit = ((celsius * 9/5) + 32)\n",
    "print ('la temperatura en fahrenheit es', fahrenheit)"
   ]
  },
  {
   "cell_type": "code",
   "execution_count": 23,
   "id": "0a836cae",
   "metadata": {},
   "outputs": [
    {
     "name": "stdout",
     "output_type": "stream",
     "text": [
      "Introduce temperatura56\n",
      "la temperatura en celsius es 13.333333333333332\n"
     ]
    }
   ],
   "source": [
    "fahrenheit = float(input('Introduce temperatura'))\n",
    "celsius = ((fahrenheit -32)/ (9/5))\n",
    "print ('la temperatura en celsius es', celsius)"
   ]
  },
  {
   "cell_type": "markdown",
   "id": "4fc19c07",
   "metadata": {},
   "source": [
    "# Condicionals"
   ]
  },
  {
   "cell_type": "code",
   "execution_count": 24,
   "id": "04ee5f35",
   "metadata": {},
   "outputs": [
    {
     "name": "stdout",
     "output_type": "stream",
     "text": [
      "Te asas\n"
     ]
    }
   ],
   "source": [
    "#if  -> si...\n",
    "#else  -> sino...\n",
    "#elif  -> else if -> sino, si...\n",
    "\n",
    "x = 30\n",
    "if x < 20:\n",
    "    print ('Hace un poco de frio. pero se está bien')\n",
    "if x > 20:\n",
    "    print ('Te asas')"
   ]
  },
  {
   "cell_type": "code",
   "execution_count": 25,
   "id": "49bebcf4",
   "metadata": {},
   "outputs": [
    {
     "name": "stdout",
     "output_type": "stream",
     "text": [
      "Estas en proceso de cocimiento\n"
     ]
    }
   ],
   "source": [
    "x = 30\n",
    "if x <= 20:\n",
    "    print ('se está bien')\n",
    "elif (x > 20) and (x<=40):\n",
    "    print ('Estas en proceso de cocimiento')\n",
    "elif (x > 0) and (x<=20):\n",
    "    print ('Estas en proceso de congelación')\n",
    "elif (x >400) and (x<=60):\n",
    "    print ('Tan solo quedan cenizas de tí')"
   ]
  },
  {
   "cell_type": "code",
   "execution_count": 46,
   "id": "9cae4578",
   "metadata": {},
   "outputs": [
    {
     "name": "stdout",
     "output_type": "stream",
     "text": [
      "Introduce tu edad3\n",
      "vas a primaria\n"
     ]
    }
   ],
   "source": [
    "x = int(input('Introduce tu edad'))\n",
    "if (x <= 12) and (x>0):\n",
    "    print ('vas a primaria')\n",
    "elif (x > 12) and (x<=16):\n",
    "    print ('Estas en la ESO')\n",
    "elif (x > 16) and (x<=18):\n",
    "    print ('Estas en bachillerato')\n",
    "elif (x >18) and (x<=30):\n",
    "    print ('supongo que estás en la uni')\n",
    "elif (x > 30) and (x<=120):\n",
    "    print ('Estaras trabajando, jubilado y/o viviendo bajo un puente.')\n",
    "elif (x >400) and (x<=60):\n",
    "    print ('Tan solo quedan cenizas de tí')\n",
    "elif (x >120):\n",
    "    print ('¿Hay Wifi en la ultratumba?')\n",
    "elif (x<=0):\n",
    "    print ('Como te lo digo...')"
   ]
  },
  {
   "cell_type": "markdown",
   "id": "02fa4727",
   "metadata": {},
   "source": [
    "# Libreria"
   ]
  },
  {
   "cell_type": "code",
   "execution_count": 1,
   "id": "aecff78b",
   "metadata": {},
   "outputs": [],
   "source": [
    "import math"
   ]
  },
  {
   "cell_type": "code",
   "execution_count": null,
   "id": "4b5d40df",
   "metadata": {},
   "outputs": [],
   "source": [
    "num = float(input('Introduce un número'))\n",
    "num_rad = math.radians(num)\n",
    "num_cos = math.cos(num_rad)\n",
    "print('el coseno de', num, 'es', num_cos)"
   ]
  },
  {
   "cell_type": "code",
   "execution_count": null,
   "id": "7e8acf08",
   "metadata": {},
   "outputs": [],
   "source": [
    "def saludarEdad(nombre, edad):\n",
    "    saludo = 'Hola '+ nombre + ', tienes ' + str(edad) + ' años'\n",
    "    return saludo"
   ]
  },
  {
   "cell_type": "code",
   "execution_count": null,
   "id": "81982249",
   "metadata": {},
   "outputs": [],
   "source": [
    "saludarEdad ('Inés', 16)"
   ]
  },
  {
   "cell_type": "markdown",
   "id": "ce9b519d",
   "metadata": {},
   "source": [
    "# Calculadora"
   ]
  },
  {
   "cell_type": "code",
   "execution_count": 2,
   "id": "7b0e5843",
   "metadata": {},
   "outputs": [
    {
     "name": "stdout",
     "output_type": "stream",
     "text": [
      "Introduce un número:6\n",
      "Introduce otro número:8\n",
      "14\n"
     ]
    }
   ],
   "source": [
    "def calcularSuma(num1, num2):\n",
    "    suma = num1+num2\n",
    "    return suma\n",
    "\n",
    "num1 = int(input('Introduce un número:'))\n",
    "num2 = int(input('Introduce otro número:'))\n",
    "reresultadosSuma = calcularSuma(num1, num2)\n",
    "print(reresultadosSuma)"
   ]
  },
  {
   "cell_type": "code",
   "execution_count": 1,
   "id": "3f43e810",
   "metadata": {},
   "outputs": [],
   "source": [
    "import math"
   ]
  },
  {
   "cell_type": "code",
   "execution_count": 2,
   "id": "714602f2",
   "metadata": {},
   "outputs": [],
   "source": [
    "def calcularSuma(num1, num2):\n",
    "    suma = num1 + num2\n",
    "    return suma\n",
    "def calcularResta(num1, num2):\n",
    "    resta = num1 - num2\n",
    "    return resta\n",
    "def calcularDivisión(num1, num2):\n",
    "    división = num1 / num2\n",
    "    return división\n",
    "def calcularMultiplicación(num1, num2):\n",
    "    multiplicación = num1 * num2\n",
    "    return multiplicación\n",
    "def calcularCoseno(num1):\n",
    "    num_rad = math.radians(num1)\n",
    "    num_cos = math.cos(num_rad)\n",
    "    return num_cos\n",
    "def calcularSeno(num1):\n",
    "    num_rad = math.radians(num1)\n",
    "    num_sin = math.sin(num_rad)\n",
    "    return num_sin\n",
    "def calcularTan(num1):\n",
    "    num_rad = math.radians(num1)\n",
    "    num_tan = math.tan(num_rad)\n",
    "    return num_tan\n",
    "def calcularRaiz(num1):\n",
    "    num_sqrt = math.sqrt(num1)\n",
    "    return num_sqrt"
   ]
  },
  {
   "cell_type": "code",
   "execution_count": 3,
   "id": "5f493e1e",
   "metadata": {},
   "outputs": [],
   "source": [
    "def menu():\n",
    "    print('MENU CALCULADORA')\n",
    "    print('------------------------')\n",
    "    print('1. Sumar')\n",
    "    print('2. Restar')\n",
    "    print('3. Dividir')\n",
    "    print('4. Multiplicar')\n",
    "    print('5. Coseno')\n",
    "    print('6. Seno')\n",
    "    print('7. Tangente')\n",
    "    print('8. Raíz cuadrada')\n",
    "    print('9. Salir')"
   ]
  },
  {
   "cell_type": "code",
   "execution_count": 4,
   "id": "0d69b5d6",
   "metadata": {},
   "outputs": [
    {
     "name": "stdout",
     "output_type": "stream",
     "text": [
      "MENU CALCULADORA\n",
      "------------------------\n",
      "1. Sumar\n",
      "2. Restar\n",
      "3. Dividir\n",
      "4. Multiplicar\n",
      "5. Coseno\n",
      "6. Seno\n",
      "7. Tangente\n",
      "8. Raíz cuadrada\n",
      "9. Salir\n"
     ]
    }
   ],
   "source": [
    "menu()"
   ]
  },
  {
   "cell_type": "code",
   "execution_count": 5,
   "id": "cacb15eb",
   "metadata": {},
   "outputs": [
    {
     "name": "stdout",
     "output_type": "stream",
     "text": [
      "MENU CALCULADORA\n",
      "------------------------\n",
      "1. Sumar\n",
      "2. Restar\n",
      "3. Dividir\n",
      "4. Multiplicar\n",
      "5. Coseno\n",
      "6. Seno\n",
      "7. Tangente\n",
      "8. Raíz cuadrada\n",
      "9. Salir\n",
      "Ecoge una opción del menú 1\n",
      "Dentro\n",
      "Introduce un número:6\n",
      "Introduce otro número:7\n",
      "El resultado de sumar  6 y  7 es  13\n",
      "Ecoge una opción del menú 2\n",
      "Dentro\n",
      "Introduce un número:4\n",
      "Introduce otro número:3\n",
      "El resultado de restar  4 y  3 es  1\n",
      "Ecoge una opción del menú 3\n",
      "Dentro\n",
      "Introduce un número:5\n",
      "Introduce otro número:2\n",
      "El resultado de dividir  5 entre  2 es  2.5\n",
      "Ecoge una opción del menú 7\n",
      "Dentro\n",
      "Introduce un número:5\n",
      "La tangente de  5 es  0.08748866352592401\n",
      "Ecoge una opción del menú 4\n",
      "Dentro\n",
      "Introduce un número:5\n",
      "Introduce otro número:6\n",
      "El resultado de multiplicar  5 por  6 es  30\n",
      "Ecoge una opción del menú 5\n",
      "Dentro\n",
      "Introduce un número:7\n",
      "El coseno de  7 es  0.992546151641322\n",
      "Ecoge una opción del menú 6\n",
      "Dentro\n",
      "Introduce un número:8\n",
      "El seno de  8 es  0.13917310096006544\n",
      "Ecoge una opción del menú 9\n",
      "Hasta nunca\n"
     ]
    }
   ],
   "source": [
    "menu()\n",
    "fin = False\n",
    "while fin == False:\n",
    "    opcion = int(input('Ecoge una opción del menú '))\n",
    "    if (opcion<=4)and(opcion>0):\n",
    "        print(\"Dentro\")\n",
    "        num1 = int(input('Introduce un número:'))\n",
    "        num2 = int(input('Introduce otro número:'))\n",
    "        if (opcion == 1):\n",
    "            reresultadosSuma = calcularSuma(num1, num2)\n",
    "            print('El resultado de sumar ', num1, 'y ', num2, 'es ', reresultadosSuma)\n",
    "        elif (opcion == 2):\n",
    "            reresultadosResta = calcularResta(num1, num2)\n",
    "            print('El resultado de restar ', num1, 'y ', num2, 'es ', reresultadosResta)\n",
    "        elif (opcion == 3):\n",
    "            reresultadosDividir = calcularDivisión(num1, num2)\n",
    "            print('El resultado de dividir ', num1, 'entre ', num2, 'es ', reresultadosDividir)\n",
    "        elif (opcion == 4):\n",
    "            reresultadosMultiplicar = calcularMultiplicación(num1, num2)\n",
    "            print('El resultado de multiplicar ', num1, 'por ', num2, 'es ', reresultadosMultiplicar)\n",
    "    elif (opcion<=8) and (opcion>4):\n",
    "        print(\"Dentro\")\n",
    "        num1 = int(input('Introduce un número:'))      \n",
    "        if (opcion == 5):\n",
    "            reresultadosCoseno = calcularCoseno(num1)\n",
    "            print('El coseno de ', num1,'es ', reresultadosCoseno)\n",
    "        elif (opcion == 6):\n",
    "            reresultadosSeno = calcularSeno(num1)\n",
    "            print('El seno de ', num1,'es ', reresultadosSeno)\n",
    "        elif (opcion == 7):\n",
    "            reresultadosTan = calcularTan(num1)\n",
    "            print('La tangente de ', num1,'es ', reresultadosTan)\n",
    "        elif (opcion == 8):\n",
    "            reresultadosRaíz = calcularRaiz(num1)\n",
    "            print('La raíz cuadrada de ', num1,'es ', reresultadosRaíz)\n",
    "   \n",
    "\n",
    "                  \n",
    "    elif (opcion == 9):\n",
    "        print('Hasta nunca')     \n",
    "        fin = True\n",
    "    \n",
    "\n",
    "    else:\n",
    "        print(\"O no te enteraste de lo que había que poner o te pilló la dislexia\")"
   ]
  },
  {
   "cell_type": "markdown",
   "id": "6e2b8874",
   "metadata": {},
   "source": [
    "# While"
   ]
  },
  {
   "cell_type": "code",
   "execution_count": 6,
   "id": "779a001e",
   "metadata": {},
   "outputs": [
    {
     "name": "stdout",
     "output_type": "stream",
     "text": [
      "1\n",
      "2\n",
      "3\n",
      "4\n",
      "5\n",
      "6\n",
      "7\n",
      "8\n",
      "9\n",
      "10\n"
     ]
    }
   ],
   "source": [
    "x = 1\n",
    "while x<=10:\n",
    "    print(x)\n",
    "    x=x+1"
   ]
  },
  {
   "cell_type": "code",
   "execution_count": 7,
   "id": "56ab5cf0",
   "metadata": {},
   "outputs": [
    {
     "name": "stdout",
     "output_type": "stream",
     "text": [
      "Numero1:6\n",
      "Numero2:8\n",
      "\n",
      "\n",
      "Numero1:5\n",
      "Numero2:8\n",
      "\n",
      "\n",
      "Numero1:3\n",
      "Numero2:2\n",
      "\n",
      "\n"
     ]
    }
   ],
   "source": [
    "fin = False\n",
    "while fin ==False:\n",
    "    num1 = int(input('Numero1:'))\n",
    "    num2 = int(input('Numero2:'))\n",
    "    suma = num1 + num2\n",
    "    print('\\n')\n",
    "    if suma == 5:\n",
    "        fin=True"
   ]
  },
  {
   "cell_type": "code",
   "execution_count": 2,
   "id": "042292dd",
   "metadata": {},
   "outputs": [
    {
     "name": "stdout",
     "output_type": "stream",
     "text": [
      "Escribe tu contraseña:fer\n",
      "incorrecto\n",
      "Escribe tu contraseña:gdhgtr\n",
      "incorrecto\n",
      "Escribe tu contraseña:hghrh\n",
      "incorrecto\n",
      "Superaste el número de intentos\n"
     ]
    }
   ],
   "source": [
    "contra_secreta= 'Jinuelsia'\n",
    "contra = False\n",
    "vida=0\n",
    "\n",
    "while contra == False:\n",
    "    if vida<3:\n",
    "        num1 = str(input('Escribe tu contraseña:'))\n",
    "        if num1 == contra_secreta:\n",
    "            print ('correcta')\n",
    "            contra = True\n",
    "        else:\n",
    "            print('incorrecto')\n",
    "            vida = vida+1\n",
    "    elif vida>=3:\n",
    "        print('Superaste el número de intentos')\n",
    "        contra = True\n"
   ]
  },
  {
   "cell_type": "markdown",
   "id": "b942d549",
   "metadata": {},
   "source": [
    "# Listas"
   ]
  },
  {
   "cell_type": "code",
   "execution_count": null,
   "id": "34b301ac",
   "metadata": {},
   "outputs": [],
   "source": [
    "#se empieza siempre a contar en la posición 0"
   ]
  },
  {
   "cell_type": "code",
   "execution_count": 3,
   "id": "cd8a41cb",
   "metadata": {},
   "outputs": [
    {
     "name": "stdout",
     "output_type": "stream",
     "text": [
      "['pan', 'carne', ['ajo', 'perejil', 'mayones', 'mostaza', 'ketchup'], 'queso', 'lechuga', 'tomate', 'cebolla', 'pepinillos']\n",
      "['patatas', 'nuggets', 'salsa barbacoa', 'ensalada', 'coca-cola']\n"
     ]
    }
   ],
   "source": [
    "x=['pan', 'carne', ['ajo', 'perejil', 'mayones', 'mostaza', 'ketchup'], 'queso', 'lechuga', 'tomate', 'cebolla', 'pepinillos']\n",
    "y=['patatas', 'nuggets', 'salsa barbacoa', 'ensalada', 'coca-cola']\n",
    "print(x)\n",
    "print(y)"
   ]
  },
  {
   "cell_type": "code",
   "execution_count": 2,
   "id": "81c15715",
   "metadata": {},
   "outputs": [],
   "source": [
    "personas = ['Mario', 'Lucia', 'Paula', 'Eva', 'Enrique', 'Jose', 'Diego', 'Alvaro'] "
   ]
  },
  {
   "cell_type": "code",
   "execution_count": 3,
   "id": "5c6ebb91",
   "metadata": {},
   "outputs": [
    {
     "name": "stdout",
     "output_type": "stream",
     "text": [
      "Paula\n"
     ]
    }
   ],
   "source": [
    "print(personas[2]) #acceder elemento"
   ]
  },
  {
   "cell_type": "code",
   "execution_count": 4,
   "id": "503c8d20",
   "metadata": {},
   "outputs": [
    {
     "name": "stdout",
     "output_type": "stream",
     "text": [
      "8\n"
     ]
    }
   ],
   "source": [
    "print(len(personas)) #longitud lista"
   ]
  },
  {
   "cell_type": "code",
   "execution_count": 5,
   "id": "d8b62a17",
   "metadata": {},
   "outputs": [
    {
     "name": "stdout",
     "output_type": "stream",
     "text": [
      "['Mario', 'Lucia', 'Paula', 'Eva', 'Enrique', 'Jose', 'Diego', 'Alvaro', 'Marcos']\n"
     ]
    }
   ],
   "source": [
    "personas.append('Marcos') #añadir elemento\n",
    "print(personas)"
   ]
  },
  {
   "cell_type": "code",
   "execution_count": 6,
   "id": "7fd1e254",
   "metadata": {},
   "outputs": [
    {
     "name": "stdout",
     "output_type": "stream",
     "text": [
      "['Mario', 'Lucia', 'Paula', 'Eva', 'Enrique', 'Jose', 'Diego', 'Alvaro', 'Marcos', 'Irene']\n"
     ]
    }
   ],
   "source": [
    "personas.append('Irene') #añadir elemento\n",
    "print(personas)"
   ]
  },
  {
   "cell_type": "code",
   "execution_count": 7,
   "id": "20411513",
   "metadata": {},
   "outputs": [
    {
     "name": "stdout",
     "output_type": "stream",
     "text": [
      "['Mario', 'Lucia', 'Paula', 'Eva', 'Enrique', 'Jose', 'Diego', 'Alvaro', 'Marcos']\n"
     ]
    }
   ],
   "source": [
    "personas.pop() #eliminar último\n",
    "print(personas)"
   ]
  },
  {
   "cell_type": "code",
   "execution_count": 8,
   "id": "662c9331",
   "metadata": {},
   "outputs": [
    {
     "name": "stdout",
     "output_type": "stream",
     "text": [
      "['Mario', 'Lucia', 'Paula', 'Enrique', 'Jose', 'Diego', 'Alvaro', 'Marcos']\n"
     ]
    }
   ],
   "source": [
    "personas.pop(3) #eliminar elemento determinado\n",
    "print(personas)"
   ]
  },
  {
   "cell_type": "code",
   "execution_count": 9,
   "id": "b872d538",
   "metadata": {},
   "outputs": [
    {
     "name": "stdout",
     "output_type": "stream",
     "text": [
      "['Mario', 'Lucia', 'Paula', 'Jose', 'Diego', 'Alvaro', 'Marcos']\n"
     ]
    }
   ],
   "source": [
    "personas.remove('Enrique')#eliminar elemento determinado\n",
    "print(personas)"
   ]
  },
  {
   "cell_type": "code",
   "execution_count": 10,
   "id": "d7594391",
   "metadata": {},
   "outputs": [
    {
     "name": "stdout",
     "output_type": "stream",
     "text": [
      "['Mario', 'Lucia', 'Paula', 'Jose', 'Serafina', 'Diego', 'Alvaro', 'Marcos']\n"
     ]
    }
   ],
   "source": [
    "personas.insert(4, 'Serafina') #añadir elemento en posición determinada\n",
    "print(personas)"
   ]
  },
  {
   "cell_type": "code",
   "execution_count": 11,
   "id": "55c5db72",
   "metadata": {},
   "outputs": [
    {
     "name": "stdout",
     "output_type": "stream",
     "text": [
      "['Mario', 'Lucrecia', 'Paula', 'Jose', 'Serafina', 'Diego', 'Alvaro', 'Marcos']\n"
     ]
    }
   ],
   "source": [
    "personas[1] = 'Lucrecia' #sustituir elemento\n",
    "print(personas)"
   ]
  },
  {
   "cell_type": "code",
   "execution_count": 12,
   "id": "eddba427",
   "metadata": {},
   "outputs": [
    {
     "name": "stdout",
     "output_type": "stream",
     "text": [
      "5\n"
     ]
    }
   ],
   "source": [
    "print(personas.index('Diego')) #ver posición elemento"
   ]
  },
  {
   "cell_type": "code",
   "execution_count": null,
   "id": "52b0567b",
   "metadata": {},
   "outputs": [],
   "source": [
    "personas.clear() #eliminar lista\n",
    "print(personas)"
   ]
  },
  {
   "cell_type": "code",
   "execution_count": 1,
   "id": "430b1bba",
   "metadata": {},
   "outputs": [],
   "source": [
    "compra = ['melon', 'sandia', 'atun', 'filetes', 'yogures','huevos']\n"
   ]
  },
  {
   "cell_type": "code",
   "execution_count": 2,
   "id": "65ef855e",
   "metadata": {},
   "outputs": [
    {
     "name": "stdout",
     "output_type": "stream",
     "text": [
      "['melon', 'sandia', 'atun', 'filetes', 'yogures', 'huevos', 'sopa', 'arroz', 'queso']\n"
     ]
    }
   ],
   "source": [
    "compra.append('sopa')\n",
    "compra.append('arroz')\n",
    "compra.append('queso')\n",
    "print(compra)"
   ]
  },
  {
   "cell_type": "code",
   "execution_count": 3,
   "id": "386d770f",
   "metadata": {},
   "outputs": [
    {
     "name": "stdout",
     "output_type": "stream",
     "text": [
      "['melon', 'sandia', 'atun', 'filetes', 'yogures', 'huevos', 'sopa', 'arroz']\n"
     ]
    }
   ],
   "source": [
    "compra.pop()\n",
    "print(compra)"
   ]
  },
  {
   "cell_type": "code",
   "execution_count": 4,
   "id": "398b8a70",
   "metadata": {},
   "outputs": [
    {
     "name": "stdout",
     "output_type": "stream",
     "text": [
      "['melon', 'sandia', 'atun', 'yogures', 'huevos', 'sopa', 'arroz']\n"
     ]
    }
   ],
   "source": [
    "compra.remove('filetes')\n",
    "print(compra)"
   ]
  },
  {
   "cell_type": "code",
   "execution_count": 5,
   "id": "e8a3e545",
   "metadata": {},
   "outputs": [
    {
     "name": "stdout",
     "output_type": "stream",
     "text": [
      "['melon', 'sandia', 'atun', 'huevos', 'sopa', 'arroz']\n"
     ]
    }
   ],
   "source": [
    "compra.pop(3)\n",
    "print(compra)"
   ]
  },
  {
   "cell_type": "code",
   "execution_count": 6,
   "id": "15f0fe26",
   "metadata": {},
   "outputs": [
    {
     "name": "stdout",
     "output_type": "stream",
     "text": [
      "['melon', 'sandia', 'pan', 'atun', 'huevos', 'sopa', 'arroz']\n"
     ]
    }
   ],
   "source": [
    "compra.insert(2, 'pan')\n",
    "print(compra)"
   ]
  },
  {
   "cell_type": "code",
   "execution_count": 7,
   "id": "53b20899",
   "metadata": {},
   "outputs": [
    {
     "name": "stdout",
     "output_type": "stream",
     "text": [
      "['piña', 'sandia', 'pan', 'atun', 'huevos', 'sopa', 'arroz']\n"
     ]
    }
   ],
   "source": [
    "compra[0] = 'piña'\n",
    "print(compra)"
   ]
  },
  {
   "cell_type": "code",
   "execution_count": 8,
   "id": "b4126416",
   "metadata": {},
   "outputs": [
    {
     "name": "stdout",
     "output_type": "stream",
     "text": [
      "5\n"
     ]
    }
   ],
   "source": [
    "print(compra.index('sopa'))"
   ]
  },
  {
   "cell_type": "markdown",
   "id": "dfbde4e5",
   "metadata": {},
   "source": [
    "# Bucle 'for _ in range(x,y):'"
   ]
  },
  {
   "cell_type": "code",
   "execution_count": 13,
   "id": "665c1680",
   "metadata": {},
   "outputs": [
    {
     "name": "stdout",
     "output_type": "stream",
     "text": [
      "0\n",
      "1\n",
      "2\n",
      "3\n",
      "4\n",
      "5\n",
      "6\n",
      "7\n",
      "8\n",
      "9\n",
      "2\n",
      "3\n",
      "4\n",
      "5\n",
      "6\n",
      "7\n",
      "8\n",
      "9\n",
      "10\n",
      "11\n"
     ]
    }
   ],
   "source": [
    "for i in range (0, 10):\n",
    "    print(i)\n",
    "for i in range (10):\n",
    "    print(i+2)"
   ]
  },
  {
   "cell_type": "code",
   "execution_count": 14,
   "id": "cac65483",
   "metadata": {},
   "outputs": [],
   "source": [
    "compra = ['melon', 'sandia', 'atun', 'filetes', 'yogures','huevos']"
   ]
  },
  {
   "cell_type": "code",
   "execution_count": 15,
   "id": "be5c2877",
   "metadata": {},
   "outputs": [
    {
     "name": "stdout",
     "output_type": "stream",
     "text": [
      "melon\n",
      "sandia\n",
      "atun\n",
      "filetes\n",
      "yogures\n",
      "huevos\n"
     ]
    }
   ],
   "source": [
    "for x in compra:\n",
    "    print(x)"
   ]
  },
  {
   "cell_type": "code",
   "execution_count": 16,
   "id": "aa2cfbaf",
   "metadata": {},
   "outputs": [
    {
     "name": "stdout",
     "output_type": "stream",
     "text": [
      "range(1, 11)\n"
     ]
    }
   ],
   "source": [
    "print(range(1,11))"
   ]
  },
  {
   "cell_type": "code",
   "execution_count": 17,
   "id": "3067546c",
   "metadata": {},
   "outputs": [
    {
     "name": "stdout",
     "output_type": "stream",
     "text": [
      "Elemento melon\n",
      "Elemento sandia\n",
      "Elemento atun\n",
      "Elemento filetes\n",
      "Elemento yogures\n",
      "Elemento huevos\n"
     ]
    }
   ],
   "source": [
    "for elemento in compra:\n",
    "    print('Elemento', elemento)"
   ]
  },
  {
   "cell_type": "code",
   "execution_count": 1,
   "id": "8376ae8e",
   "metadata": {},
   "outputs": [],
   "source": [
    "posicion = []\n",
    "gente  = ['Mario', 'Jesus', 'Eva', 'Enrique', 'Jose', 'Diego', 'Alvaro', 'Eva']"
   ]
  },
  {
   "cell_type": "code",
   "execution_count": 5,
   "id": "39d47da4",
   "metadata": {},
   "outputs": [
    {
     "name": "stdout",
     "output_type": "stream",
     "text": [
      "[2, 2, 2, 2, 7]\n"
     ]
    }
   ],
   "source": [
    "while 'Eva' in gente:\n",
    "    for elemento in gente:\n",
    "        if elemento == 'Eva':\n",
    "            posicion.append(gente.index('Eva'))\n",
    "            gente[gente.index('Eva')] = 'E'\n",
    "print(posicion)\n",
    "\n",
    "#No funciona"
   ]
  },
  {
   "cell_type": "code",
   "execution_count": 6,
   "id": "10b3e6fd",
   "metadata": {},
   "outputs": [
    {
     "name": "stdout",
     "output_type": "stream",
     "text": [
      "[2, 7]\n"
     ]
    }
   ],
   "source": [
    "posicion = []\n",
    "gente  = ['Mario', 'Jesus', 'Eva', 'Enrique', 'Jose', 'Diego', 'Alvaro', 'Eva']\n",
    "\n",
    "pos= -1\n",
    "for persona in gente:\n",
    "    pos += 1\n",
    "    if persona == 'Eva':\n",
    "        posicion.append(pos)\n",
    "print(posicion)"
   ]
  },
  {
   "cell_type": "markdown",
   "id": "62dd6b98",
   "metadata": {},
   "source": [
    "### Lista interactiva"
   ]
  },
  {
   "cell_type": "code",
   "execution_count": 8,
   "id": "6d4cad73",
   "metadata": {},
   "outputs": [
    {
     "name": "stdout",
     "output_type": "stream",
     "text": [
      "¿Quiere añadir elemento?(escriba en minisculas)si\n",
      "Dentro\n",
      "Escriba el elemento:jamon\n",
      "\n",
      "\n",
      "¿Quiere añadir elemento?(escriba en minisculas)si\n",
      "Dentro\n",
      "Escriba el elemento:queso\n",
      "\n",
      "\n",
      "¿Quiere añadir elemento?(escriba en minisculas)si\n",
      "Dentro\n",
      "Escriba el elemento:pan\n",
      "\n",
      "\n",
      "¿Quiere añadir elemento?(escriba en minisculas)si\n",
      "Dentro\n",
      "Escriba el elemento:tomate\n",
      "\n",
      "\n",
      "¿Quiere añadir elemento?(escriba en minisculas)no\n",
      "\n",
      "\n",
      "Lista preparada\n",
      "______________________\n",
      "Elemento jamon\n",
      "Elemento queso\n",
      "Elemento pan\n",
      "Elemento tomate\n"
     ]
    }
   ],
   "source": [
    "lista=[]\n",
    "fin = False\n",
    "while fin == False:\n",
    "    opcion = str(input('¿Quiere añadir elemento?(escriba en minisculas)'))\n",
    "    if (opcion=='si'):\n",
    "        print(\"Dentro\")\n",
    "        elemento = str(input('Escriba el elemento:'))\n",
    "        lista.append(elemento)\n",
    "        print('\\n')\n",
    "                  \n",
    "    elif (opcion == 'no'):\n",
    "        print('\\n')\n",
    "        print('Lista preparada')\n",
    "        print('------------------')\n",
    "        for elemento in lista:\n",
    "            print('Elemento', elemento)\n",
    "        fin = True\n",
    "\n",
    "    else:\n",
    "        print(\"O no te enteraste de lo que había que poner o te pilló la dislexia\")"
   ]
  },
  {
   "cell_type": "markdown",
   "id": "3abcf80f",
   "metadata": {},
   "source": [
    "# Diccionario"
   ]
  },
  {
   "cell_type": "code",
   "execution_count": null,
   "id": "27dca782",
   "metadata": {},
   "outputs": [],
   "source": [
    "# nombre_diccionario = {k1:v1, k2:v2, ...} #las claves no se pueden repetir, y pueden ser tanto strings como ints"
   ]
  },
  {
   "cell_type": "code",
   "execution_count": 10,
   "id": "8d7e2292",
   "metadata": {},
   "outputs": [],
   "source": [
    "agenda = {'lunes':['correr','shopping'], 'martes':['poner la lavadora', 'comer con los abuelos'], 'miercoles':{'mañana':'visitar a Juan', 'tarde':'medico'}}"
   ]
  },
  {
   "cell_type": "code",
   "execution_count": 11,
   "id": "75162c33",
   "metadata": {},
   "outputs": [],
   "source": [
    "contactos = {\n",
    "    1: {'nombre':'lucrecia', 'tlf': 653478932, 'direccion': 'calle aba'},\n",
    "    2: {'nombre':'menceslao', 'tlf': 60937521, 'direccion': 'calle cas'},\n",
    "    3: {'nombre':'alberto', 'tlf': 630472651, 'direccion': 'calle andas'},\n",
    "    1: {'nombre':'bob', 'tlf': 6083740229, 'direccion': 'calle dados'}\n",
    "            }"
   ]
  },
  {
   "cell_type": "code",
   "execution_count": 12,
   "id": "75257515",
   "metadata": {},
   "outputs": [],
   "source": [
    "edades = {\"Eva\": 22, \"Paula\": 20, \"Gon\": 10, \"Sergio\":16}"
   ]
  },
  {
   "cell_type": "code",
   "execution_count": 13,
   "id": "e7d26a6b",
   "metadata": {},
   "outputs": [
    {
     "name": "stdout",
     "output_type": "stream",
     "text": [
      "10\n"
     ]
    }
   ],
   "source": [
    "#acceder valor según clave\n",
    "print(edades['Gon'])"
   ]
  },
  {
   "cell_type": "code",
   "execution_count": 14,
   "id": "6d4d5b27",
   "metadata": {},
   "outputs": [
    {
     "name": "stdout",
     "output_type": "stream",
     "text": [
      "10\n"
     ]
    }
   ],
   "source": [
    "#acceder valor según clave\n",
    "print(edades.get('Gon'))"
   ]
  },
  {
   "cell_type": "code",
   "execution_count": 15,
   "id": "bf2fa7d9",
   "metadata": {},
   "outputs": [],
   "source": [
    "#Crear nuevo clave-valor\n",
    "edades['Pablo']=15"
   ]
  },
  {
   "cell_type": "code",
   "execution_count": 16,
   "id": "6385cd20",
   "metadata": {},
   "outputs": [
    {
     "name": "stdout",
     "output_type": "stream",
     "text": [
      "{'Eva': 22, 'Paula': 20, 'Gon': 10, 'Sergio': 16, 'Pablo': 15}\n"
     ]
    }
   ],
   "source": [
    "print(edades)"
   ]
  },
  {
   "cell_type": "code",
   "execution_count": 17,
   "id": "5df6b450",
   "metadata": {},
   "outputs": [
    {
     "name": "stdout",
     "output_type": "stream",
     "text": [
      "{'Eva': 22, 'Paula': 20, 'Gon': 10, 'Sergio': 14, 'Pablo': 15}\n"
     ]
    }
   ],
   "source": [
    "#modificar valor de una clave\n",
    "edades['Sergio']=14\n",
    "print(edades)"
   ]
  },
  {
   "cell_type": "code",
   "execution_count": 19,
   "id": "d3eb001c",
   "metadata": {},
   "outputs": [
    {
     "name": "stdout",
     "output_type": "stream",
     "text": [
      "{'Eva': 22, 'Paula': 20, 'Gon': 10, 'Pablo': 15}\n"
     ]
    }
   ],
   "source": [
    "#eliminar elemnto\n",
    "edades.pop('Sergio')\n",
    "print(edades)"
   ]
  },
  {
   "cell_type": "code",
   "execution_count": null,
   "id": "f9e1e624",
   "metadata": {},
   "outputs": [],
   "source": [
    "#eliminar todo el diccionario\n",
    "edades.clear()"
   ]
  },
  {
   "cell_type": "code",
   "execution_count": null,
   "id": "955166c7",
   "metadata": {},
   "outputs": [],
   "source": [
    "edades = {\"Eva\": 22, \"Paula\": 20, \"Gon\": 10, \"Sergio\":16}"
   ]
  },
  {
   "cell_type": "code",
   "execution_count": 20,
   "id": "580b3066",
   "metadata": {},
   "outputs": [
    {
     "name": "stdout",
     "output_type": "stream",
     "text": [
      "dict_keys(['Eva', 'Paula', 'Gon', 'Pablo'])\n"
     ]
    }
   ],
   "source": [
    "#nos devuelve las claves\n",
    "print(edades.keys())"
   ]
  },
  {
   "cell_type": "code",
   "execution_count": 21,
   "id": "12c08935",
   "metadata": {},
   "outputs": [
    {
     "name": "stdout",
     "output_type": "stream",
     "text": [
      "dict_values([22, 20, 10, 15])\n"
     ]
    }
   ],
   "source": [
    "#nos devuelve los values\n",
    "print(edades.values())"
   ]
  },
  {
   "cell_type": "code",
   "execution_count": 22,
   "id": "775fed3a",
   "metadata": {},
   "outputs": [
    {
     "name": "stdout",
     "output_type": "stream",
     "text": [
      "dict_items([('Eva', 22), ('Paula', 20), ('Gon', 10), ('Pablo', 15)])\n"
     ]
    }
   ],
   "source": [
    "#nos devuelve los items: las parejas\n",
    "print(edades.items())"
   ]
  },
  {
   "cell_type": "code",
   "execution_count": 24,
   "id": "3ac7b4ee",
   "metadata": {},
   "outputs": [
    {
     "name": "stdout",
     "output_type": "stream",
     "text": [
      "Eva\n",
      "Paula\n",
      "Gon\n",
      "Pablo\n"
     ]
    }
   ],
   "source": [
    "#iteramos en las claves\n",
    "for k in edades.keys():\n",
    "    print(k)"
   ]
  },
  {
   "cell_type": "code",
   "execution_count": 25,
   "id": "647845fa",
   "metadata": {},
   "outputs": [
    {
     "name": "stdout",
     "output_type": "stream",
     "text": [
      "22\n",
      "20\n",
      "10\n",
      "15\n"
     ]
    }
   ],
   "source": [
    "#iteramos en los values\n",
    "for v in edades.values():\n",
    "    print(v)"
   ]
  },
  {
   "cell_type": "code",
   "execution_count": 26,
   "id": "abc61365",
   "metadata": {},
   "outputs": [
    {
     "name": "stdout",
     "output_type": "stream",
     "text": [
      "Clave: Eva  Value: 22\n",
      "Clave: Paula  Value: 20\n",
      "Clave: Gon  Value: 10\n",
      "Clave: Pablo  Value: 15\n"
     ]
    }
   ],
   "source": [
    "#iteramos en los items\n",
    "for k, v in edades.items():\n",
    "    print('Clave:', k, ' Value:', v)"
   ]
  },
  {
   "cell_type": "code",
   "execution_count": null,
   "id": "67d98553",
   "metadata": {},
   "outputs": [],
   "source": []
  }
 ],
 "metadata": {
  "kernelspec": {
   "display_name": "Python 3 (ipykernel)",
   "language": "python",
   "name": "python3"
  },
  "language_info": {
   "codemirror_mode": {
    "name": "ipython",
    "version": 3
   },
   "file_extension": ".py",
   "mimetype": "text/x-python",
   "name": "python",
   "nbconvert_exporter": "python",
   "pygments_lexer": "ipython3",
   "version": "3.8.16"
  }
 },
 "nbformat": 4,
 "nbformat_minor": 5
}
