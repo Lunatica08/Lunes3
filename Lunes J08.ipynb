{
 "cells": [
  {
   "cell_type": "markdown",
   "id": "394720f5",
   "metadata": {},
   "source": [
    "# "
   ]
  },
  {
   "cell_type": "code",
   "execution_count": null,
   "id": "48f0cbbe",
   "metadata": {},
   "outputs": [],
   "source": [
    " #int\n",
    "num = 7\n",
    "    \n",
    "#float\n",
    "num_dec = 10.4\n",
    "\n",
    "#string\n",
    "cadena = 'hola'\n",
    "\n",
    "#boolean\n",
    "fin = False"
   ]
  },
  {
   "cell_type": "code",
   "execution_count": 2,
   "id": "5c21d474",
   "metadata": {},
   "outputs": [
    {
     "name": "stdout",
     "output_type": "stream",
     "text": [
      "7\n"
     ]
    }
   ],
   "source": [
    "print (num)"
   ]
  },
  {
   "cell_type": "code",
   "execution_count": 3,
   "id": "cfa08229",
   "metadata": {},
   "outputs": [
    {
     "name": "stdout",
     "output_type": "stream",
     "text": [
      "10.4\n"
     ]
    }
   ],
   "source": [
    "print (num_dec)"
   ]
  },
  {
   "cell_type": "code",
   "execution_count": 4,
   "id": "81ba4005",
   "metadata": {},
   "outputs": [
    {
     "name": "stdout",
     "output_type": "stream",
     "text": [
      "hola\n"
     ]
    }
   ],
   "source": [
    "print (cadena)"
   ]
  },
  {
   "cell_type": "code",
   "execution_count": 5,
   "id": "332782e7",
   "metadata": {},
   "outputs": [
    {
     "name": "stdout",
     "output_type": "stream",
     "text": [
      "False\n"
     ]
    }
   ],
   "source": [
    "print (fin)"
   ]
  },
  {
   "cell_type": "code",
   "execution_count": 6,
   "id": "c8498b68",
   "metadata": {},
   "outputs": [
    {
     "name": "stdout",
     "output_type": "stream",
     "text": [
      "Introduce un nombre:\n",
      "Julia\n"
     ]
    }
   ],
   "source": [
    "nombre = input(\"Introduce un nombre:\\n\")"
   ]
  },
  {
   "cell_type": "code",
   "execution_count": 7,
   "id": "46d4fc61",
   "metadata": {},
   "outputs": [
    {
     "name": "stdout",
     "output_type": "stream",
     "text": [
      "Julia\n"
     ]
    }
   ],
   "source": [
    "print (nombre)"
   ]
  },
  {
   "cell_type": "code",
   "execution_count": 8,
   "id": "1030f3e7",
   "metadata": {
    "scrolled": true
   },
   "outputs": [
    {
     "name": "stdout",
     "output_type": "stream",
     "text": [
      "Introduce tu edad:\n",
      "16\n"
     ]
    }
   ],
   "source": [
    "edad = input(\"Introduce tu edad:\\n\")\n",
    "edad_int = int(edad)"
   ]
  },
  {
   "cell_type": "code",
   "execution_count": 12,
   "id": "44025c84",
   "metadata": {},
   "outputs": [
    {
     "name": "stdout",
     "output_type": "stream",
     "text": [
      "Introduce tu edad:\n",
      "16\n"
     ]
    }
   ],
   "source": [
    "edad = int(input(\"Introduce tu edad:\\n\"))"
   ]
  },
  {
   "cell_type": "code",
   "execution_count": 14,
   "id": "a8544c60",
   "metadata": {},
   "outputs": [
    {
     "data": {
      "text/plain": [
       "int"
      ]
     },
     "execution_count": 14,
     "metadata": {},
     "output_type": "execute_result"
    }
   ],
   "source": [
    "type(edad_int)"
   ]
  },
  {
   "cell_type": "code",
   "execution_count": 18,
   "id": "9dcaca99",
   "metadata": {},
   "outputs": [
    {
     "data": {
      "text/plain": [
       "int"
      ]
     },
     "execution_count": 18,
     "metadata": {},
     "output_type": "execute_result"
    }
   ],
   "source": [
    "type(edad)"
   ]
  },
  {
   "cell_type": "code",
   "execution_count": 17,
   "id": "3a94dc7d",
   "metadata": {},
   "outputs": [
    {
     "name": "stdout",
     "output_type": "stream",
     "text": [
      "hola Julia tienes 16 años\n"
     ]
    }
   ],
   "source": [
    "print(\"hola\", nombre, \"tienes\", edad_int, \"años\")"
   ]
  },
  {
   "cell_type": "code",
   "execution_count": 19,
   "id": "00972c5c",
   "metadata": {},
   "outputs": [
    {
     "name": "stdout",
     "output_type": "stream",
     "text": [
      "Intro numero:5\n",
      "Intro otro numero:6\n",
      "56\n"
     ]
    }
   ],
   "source": [
    "num1 = input('Intro numero:')\n",
    "num2 = input('Intro otro numero:')\n",
    "print(num1+num2)"
   ]
  },
  {
   "cell_type": "code",
   "execution_count": 20,
   "id": "f3f18515",
   "metadata": {},
   "outputs": [
    {
     "name": "stdout",
     "output_type": "stream",
     "text": [
      "Intro numero:4\n",
      "Intro otro numero:6\n",
      "10\n"
     ]
    }
   ],
   "source": [
    "num1 = int(input('Intro numero:'))\n",
    "num2 = int(input('Intro otro numero:'))\n",
    "print(num1+num2)"
   ]
  },
  {
   "cell_type": "code",
   "execution_count": 22,
   "id": "f06e9fac",
   "metadata": {},
   "outputs": [
    {
     "name": "stdout",
     "output_type": "stream",
     "text": [
      "Introduce temperatura36\n",
      "la temperatura en fahrenheit es 96.8\n"
     ]
    }
   ],
   "source": [
    "celsius = float(input('Introduce temperatura'))\n",
    "fahrenheit = ((celsius * 9/5) + 32)\n",
    "print ('la temperatura en fahrenheit es', fahrenheit)"
   ]
  },
  {
   "cell_type": "code",
   "execution_count": 23,
   "id": "0a836cae",
   "metadata": {},
   "outputs": [
    {
     "name": "stdout",
     "output_type": "stream",
     "text": [
      "Introduce temperatura56\n",
      "la temperatura en celsius es 13.333333333333332\n"
     ]
    }
   ],
   "source": [
    "fahrenheit = float(input('Introduce temperatura'))\n",
    "celsius = ((fahrenheit -32)/ (9/5))\n",
    "print ('la temperatura en celsius es', celsius)"
   ]
  },
  {
   "cell_type": "markdown",
   "id": "4fc19c07",
   "metadata": {},
   "source": [
    "# Condicionals"
   ]
  },
  {
   "cell_type": "code",
   "execution_count": 24,
   "id": "04ee5f35",
   "metadata": {},
   "outputs": [
    {
     "name": "stdout",
     "output_type": "stream",
     "text": [
      "Te asas\n"
     ]
    }
   ],
   "source": [
    "#if  -> si...\n",
    "#else  -> sino...\n",
    "#elif  -> else if -> sino, si...\n",
    "\n",
    "x = 30\n",
    "if x < 20:\n",
    "    print ('Hace un poco de frio. pero se está bien')\n",
    "if x > 20:\n",
    "    print ('Te asas')"
   ]
  },
  {
   "cell_type": "code",
   "execution_count": 25,
   "id": "49bebcf4",
   "metadata": {},
   "outputs": [
    {
     "name": "stdout",
     "output_type": "stream",
     "text": [
      "Estas en proceso de cocimiento\n"
     ]
    }
   ],
   "source": [
    "x = 30\n",
    "if x <= 20:\n",
    "    print ('se está bien')\n",
    "elif (x > 20) and (x<=40):\n",
    "    print ('Estas en proceso de cocimiento')\n",
    "elif (x > 0) and (x<=20):\n",
    "    print ('Estas en proceso de congelación')\n",
    "elif (x >400) and (x<=60):\n",
    "    print ('Tan solo quedan cenizas de tí')"
   ]
  },
  {
   "cell_type": "code",
   "execution_count": 46,
   "id": "9cae4578",
   "metadata": {},
   "outputs": [
    {
     "name": "stdout",
     "output_type": "stream",
     "text": [
      "Introduce tu edad3\n",
      "vas a primaria\n"
     ]
    }
   ],
   "source": [
    "x = int(input('Introduce tu edad'))\n",
    "if (x <= 12) and (x>0):\n",
    "    print ('vas a primaria')\n",
    "elif (x > 12) and (x<=16):\n",
    "    print ('Estas en la ESO')\n",
    "elif (x > 16) and (x<=18):\n",
    "    print ('Estas en bachillerato')\n",
    "elif (x >18) and (x<=30):\n",
    "    print ('supongo que estás en la uni')\n",
    "elif (x > 30) and (x<=120):\n",
    "    print ('Estaras trabajando, jubilado y/o viviendo bajo un puente.')\n",
    "elif (x >400) and (x<=60):\n",
    "    print ('Tan solo quedan cenizas de tí')\n",
    "elif (x >120):\n",
    "    print ('¿Hay Wifi en la ultratumba?')\n",
    "elif (x<=0):\n",
    "    print ('Como te lo digo...')"
   ]
  },
  {
   "cell_type": "code",
   "execution_count": 1,
   "id": "aecff78b",
   "metadata": {},
   "outputs": [],
   "source": [
    "import math"
   ]
  },
  {
   "cell_type": "code",
   "execution_count": null,
   "id": "4b5d40df",
   "metadata": {},
   "outputs": [],
   "source": [
    "num = float(input('Introduce un número'))\n",
    "num_rad = math.radians(num)\n",
    "num_cos = math.cos(num_rad)\n",
    "print('el coseno de', num, 'es', num_cos)"
   ]
  },
  {
   "cell_type": "code",
   "execution_count": null,
   "id": "7e8acf08",
   "metadata": {},
   "outputs": [],
   "source": [
    "def saludarEdad(nombre, edad):\n",
    "    saludo = 'Hola '+ nombre + ', tienes ' + str(edad) + ' años'\n",
    "    return saludo"
   ]
  },
  {
   "cell_type": "code",
   "execution_count": null,
   "id": "81982249",
   "metadata": {},
   "outputs": [],
   "source": [
    "saludarEdad ('Inés', 16)"
   ]
  },
  {
   "cell_type": "markdown",
   "id": "ce9b519d",
   "metadata": {},
   "source": [
    "# Calculadora"
   ]
  },
  {
   "cell_type": "code",
   "execution_count": null,
   "id": "7b0e5843",
   "metadata": {},
   "outputs": [],
   "source": [
    "def calcularSuma(num1, num2):\n",
    "    suma = num1+num2\n",
    "    return suma\n",
    "\n",
    "num1 = int(input('Introduce un número:'))\n",
    "num2 = int(input('Introduce otro número:'))\n",
    "reresultadosSuma = calcularSuma(num1, num2)\n",
    "print(reresultadosSuma)"
   ]
  },
  {
   "cell_type": "code",
   "execution_count": 1,
   "id": "3f43e810",
   "metadata": {},
   "outputs": [],
   "source": [
    "import math"
   ]
  },
  {
   "cell_type": "code",
   "execution_count": 2,
   "id": "714602f2",
   "metadata": {},
   "outputs": [],
   "source": [
    "def calcularSuma(num1, num2):\n",
    "    suma = num1 + num2\n",
    "    return suma\n",
    "def calcularResta(num1, num2):\n",
    "    resta = num1 - num2\n",
    "    return resta\n",
    "def calcularDivisión(num1, num2):\n",
    "    división = num1 / num2\n",
    "    return división\n",
    "def calcularMultiplicación(num1, num2):\n",
    "    multiplicación = num1 * num2\n",
    "    return multiplicación\n",
    "def calcularCoseno(num1):\n",
    "    num_rad = math.radians(num1)\n",
    "    num_cos = math.cos(num_rad)\n",
    "    return num_cos\n",
    "def calcularSeno(num1):\n",
    "    num_rad = math.radians(num1)\n",
    "    num_sin = math.sin(num_rad)\n",
    "    return num_sin\n",
    "def calcularTan(num1):\n",
    "    num_rad = math.radians(num1)\n",
    "    num_tan = math.tan(num_rad)\n",
    "    return num_tan\n",
    "def calcularRaiz(num1):\n",
    "    num_sqrt = math.sqrt(num1)\n",
    "    return num_sqrt"
   ]
  },
  {
   "cell_type": "code",
   "execution_count": 3,
   "id": "5f493e1e",
   "metadata": {},
   "outputs": [],
   "source": [
    "def menu():\n",
    "    print('MENU CALCULADORA')\n",
    "    print('------------------------')\n",
    "    print('1. Sumar')\n",
    "    print('2. Restar')\n",
    "    print('3. Dividir')\n",
    "    print('4. Multiplicar')\n",
    "    print('5. Coseno')\n",
    "    print('6. Seno')\n",
    "    print('7. Tangente')\n",
    "    print('8. Raíz cuadrada')\n",
    "    print('9. Salir')"
   ]
  },
  {
   "cell_type": "code",
   "execution_count": 4,
   "id": "0d69b5d6",
   "metadata": {},
   "outputs": [
    {
     "name": "stdout",
     "output_type": "stream",
     "text": [
      "MENU CALCULADORA\n",
      "------------------------\n",
      "1. Sumar\n",
      "2. Restar\n",
      "3. Dividir\n",
      "4. Multiplicar\n",
      "5. Coseno\n",
      "6. Seno\n",
      "7. Tangente\n",
      "8. Raíz cuadrada\n",
      "9. Salir\n"
     ]
    }
   ],
   "source": [
    "menu()"
   ]
  },
  {
   "cell_type": "code",
   "execution_count": null,
   "id": "cacb15eb",
   "metadata": {},
   "outputs": [
    {
     "name": "stdout",
     "output_type": "stream",
     "text": [
      "MENU CALCULADORA\n",
      "------------------------\n",
      "1. Sumar\n",
      "2. Restar\n",
      "3. Dividir\n",
      "4. Multiplicar\n",
      "5. Coseno\n",
      "6. Seno\n",
      "7. Tangente\n",
      "8. Raíz cuadrada\n",
      "9. Salir\n"
     ]
    }
   ],
   "source": [
    "fin = False\n",
    "while fin == False:\n",
    "    menu()\n",
    "    opcion = int(input('Ecoge una opción del menú '))\n",
    "    if (opcion<=4)and(opcion<0):\n",
    "        num1 = int(input('Introduce un número:'))\n",
    "        num2 = int(input('Introduce otro número:'))\n",
    "        if (opcion == 1):\n",
    "            reresultadosSuma = calcularSuma(num1, num2)\n",
    "            print('El resultado de sumar ', num1, 'y ', num2, 'es ', reresultadosSuma)\n",
    "        elif (opcion == 2):\n",
    "            reresultadosResta = calcularResta(num1, num2)\n",
    "            print('El resultado de restar ', num1, 'y ', num2, 'es ', reresultadosResta)\n",
    "        elif (opcion == 3):\n",
    "            reresultadosDividir = calcularDivisión(num1, num2)\n",
    "            print('El resultado de dividir ', num1, 'entre ', num2, 'es ', reresultadosDividir)\n",
    "        elif (opcion == 4):\n",
    "            reresultadosMultiplicar = calcularMultiplicación(num1, num2)\n",
    "            print('El resultado de multiplicar ', num1, 'por ', num2, 'es ', reresultadosMultiplicar)\n",
    "    elif (opcion<=8) and (opcion>4):\n",
    "        print(\"Dentro\")\n",
    "        num1 = int(input('Introduce un número:'))      \n",
    "        if (opcion == 5):\n",
    "            reresultadosCoseno = calcularCoseno(num1)\n",
    "            print('El coseno de ', num1,'es ', reresultadosCoseno)\n",
    "        elif (opcion == 6):\n",
    "            reresultadosSeno = calcularSeno(num1)\n",
    "            print('El seno de ', num1,'es ', reresultadosSeno)\n",
    "        elif (opcion == 7):\n",
    "            reresultadosTan = calcularTan(num1)\n",
    "            print('La tangente de ', num1,'es ', reresultadosTan)\n",
    "        elif (opcion == 8):\n",
    "            reresultadosRaíz = calcularRaiz(num1)\n",
    "            print('La raíz cuadrada de ', num1,'es ', reresultadosRaíz)\n",
    "   \n",
    "\n",
    "                  \n",
    "    elif (opcion == 9):\n",
    "        print('Hasta nunca')     \n",
    "        fin = True\n",
    "    \n",
    "\n",
    "    else:\n",
    "        print(\"O no te enteraste de lo que había que poner o te pilló la dislexia\")"
   ]
  },
  {
   "cell_type": "code",
   "execution_count": null,
   "id": "4dbfa533",
   "metadata": {},
   "outputs": [],
   "source": []
  },
  {
   "cell_type": "code",
   "execution_count": null,
   "id": "779a001e",
   "metadata": {},
   "outputs": [],
   "source": []
  }
 ],
 "metadata": {
  "kernelspec": {
   "display_name": "Python 3 (ipykernel)",
   "language": "python",
   "name": "python3"
  },
  "language_info": {
   "codemirror_mode": {
    "name": "ipython",
    "version": 3
   },
   "file_extension": ".py",
   "mimetype": "text/x-python",
   "name": "python",
   "nbconvert_exporter": "python",
   "pygments_lexer": "ipython3",
   "version": "3.8.16"
  }
 },
 "nbformat": 4,
 "nbformat_minor": 5
}
