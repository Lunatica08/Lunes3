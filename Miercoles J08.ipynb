{
 "cells": [
  {
   "cell_type": "markdown",
   "id": "14dcc83b",
   "metadata": {},
   "source": [
    "# Ejercicio diccionarios"
   ]
  },
  {
   "cell_type": "code",
   "execution_count": 1,
   "id": "6856489a",
   "metadata": {},
   "outputs": [
    {
     "name": "stdout",
     "output_type": "stream",
     "text": [
      "{'baloncesto': 'gasol', 'tenis': 'nadal', 'futbol': 'morata', 'natacion': 'mireiabelmonte', 'golf': 'rahm', 'formula1': 'alonso'}\n"
     ]
    }
   ],
   "source": [
    "# EJERCICIO DE DICCIONARIOS\n",
    "\n",
    "deportes = {'baloncesto':'gasol', 'tenis':'nadal', 'futbol':'morata', 'natacion':'mireiabelmonte', 'golf':'rahm'}\n",
    "# Añadir una nueva entrada (un par clave-valor) que sea formula1 - alonso \n",
    "# Eliminar la entrada natacion \n",
    "# Sustituir a nadal por alcaraz \n",
    "# Obtener un listado de los deportes (con for)\n",
    "# Obtener un listado de los deportistas (con for)\n",
    "# Obtener un listado de los deportes con sus jugadores (con for) que ponga: \n",
    "#### El deportista VVVVV hace el deporte KKKKK\n",
    "\n",
    "deportes['formula1']='alonso'\n",
    "print(deportes)"
   ]
  },
  {
   "cell_type": "code",
   "execution_count": 2,
   "id": "28c6f729",
   "metadata": {},
   "outputs": [
    {
     "name": "stdout",
     "output_type": "stream",
     "text": [
      "{'baloncesto': 'gasol', 'tenis': 'nadal', 'futbol': 'morata', 'golf': 'rahm', 'formula1': 'alonso'}\n"
     ]
    }
   ],
   "source": [
    "deportes.pop('natacion')\n",
    "print(deportes)"
   ]
  },
  {
   "cell_type": "code",
   "execution_count": 3,
   "id": "5f2bcc1e",
   "metadata": {},
   "outputs": [
    {
     "name": "stdout",
     "output_type": "stream",
     "text": [
      "{'baloncesto': 'gasol', 'tenis': 'alcaraz', 'futbol': 'morata', 'golf': 'rahm', 'formula1': 'alonso'}\n"
     ]
    }
   ],
   "source": [
    "deportes['tenis']='alcaraz'\n",
    "print(deportes)"
   ]
  },
  {
   "cell_type": "code",
   "execution_count": 9,
   "id": "0e490804",
   "metadata": {},
   "outputs": [
    {
     "name": "stdout",
     "output_type": "stream",
     "text": [
      "baloncesto\n",
      "tenis\n",
      "futbol\n",
      "golf\n",
      "formula1\n"
     ]
    }
   ],
   "source": [
    "for k in deportes.keys():\n",
    "    print(k)"
   ]
  },
  {
   "cell_type": "code",
   "execution_count": 10,
   "id": "2b0c1c5a",
   "metadata": {},
   "outputs": [
    {
     "name": "stdout",
     "output_type": "stream",
     "text": [
      "gasol\n",
      "alcaraz\n",
      "morata\n",
      "rahm\n",
      "alonso\n"
     ]
    }
   ],
   "source": [
    "for v in deportes.values():\n",
    "    print(v)"
   ]
  },
  {
   "cell_type": "code",
   "execution_count": 14,
   "id": "ebf5473e",
   "metadata": {},
   "outputs": [
    {
     "name": "stdout",
     "output_type": "stream",
     "text": [
      "el deportista gasol hace baloncesto\n",
      "el deportista alcaraz hace tenis\n",
      "el deportista morata hace futbol\n",
      "el deportista rahm hace golf\n",
      "el deportista alonso hace formula1\n"
     ]
    }
   ],
   "source": [
    "for k, v in deportes.items():\n",
    "    print('el deportista', v, 'hace', k)"
   ]
  },
  {
   "cell_type": "markdown",
   "id": "06bd9b50",
   "metadata": {},
   "source": [
    "# Competión de miniprogramas"
   ]
  },
  {
   "cell_type": "markdown",
   "id": "149b999f",
   "metadata": {},
   "source": [
    "## Contador de número de veces que aparece una palabra en una frase "
   ]
  },
  {
   "cell_type": "code",
   "execution_count": 3,
   "id": "bf0fb7a7",
   "metadata": {},
   "outputs": [
    {
     "name": "stdout",
     "output_type": "stream",
     "text": [
      "{'python': 2, 'es': 3, 'genial': 2, 'divertido': 1}\n"
     ]
    }
   ],
   "source": [
    "# Lista de palabras: # Diccionario para almacenar la frecuencia de cada palabra # RESULTADO: {'python': 2, 'es': 3, 'genial': 2, 'divertido': 1}\n",
    "contador = {}\n",
    "palabras = [\"python\", \"es\", \"genial\", \"python\", \"es\", \"divertido\", \"genial\", \"es\"]\n",
    "            \n",
    "for persona in palabras: \n",
    "    if persona in contador:\n",
    "        contador[persona]+=1\n",
    "    else:\n",
    "        contador[persona]=1\n",
    "print(contador)"
   ]
  },
  {
   "cell_type": "markdown",
   "id": "abfae67d",
   "metadata": {},
   "source": [
    "## construye un triangulo rectangulo con asteriscos"
   ]
  },
  {
   "cell_type": "code",
   "execution_count": 28,
   "id": "c2d44c28",
   "metadata": {},
   "outputs": [
    {
     "name": "stdout",
     "output_type": "stream",
     "text": [
      "*\n",
      "**\n",
      "***\n",
      "****\n",
      "*****\n",
      "******\n",
      "*******\n",
      "********\n",
      "*********\n",
      "**********\n"
     ]
    }
   ],
   "source": [
    "\n",
    "y= str('*')\n",
    "x = str('*')\n",
    "pos = 0\n",
    "while pos<10:\n",
    "    print(y)\n",
    "    y = y + x\n",
    "    pos+=1\n",
    "\n"
   ]
  },
  {
   "cell_type": "markdown",
   "id": "0acf4e3b",
   "metadata": {},
   "source": [
    "## Clasificación de Estudiantes"
   ]
  },
  {
   "cell_type": "code",
   "execution_count": 51,
   "id": "6f42128d",
   "metadata": {
    "scrolled": true
   },
   "outputs": [
    {
     "name": "stdout",
     "output_type": "stream",
     "text": [
      "CLASIFICACIÓN:\n",
      "----------------\n",
      "\n",
      "\n",
      "Aprobados:\n",
      "----------------\n",
      "Juan\n",
      "Ana\n",
      "Marta\n",
      "Pedro\n",
      "\n",
      "\n",
      "Suspensos:\n",
      "----------------\n",
      "Luis\n"
     ]
    }
   ],
   "source": [
    "#### Ejercicio 3: Clasificación de Estudiantes\n",
    "#Dado un diccionario con los nombres de los estudiantes y sus calificaciones, escribe un programa que clasifique a los estudiantes en categorías de \"Aprobado\" y \"Suspenso\".\n",
    "\n",
    "# Diccionario de estudiantes y sus calificaciones\n",
    "estudiantes = {\"Juan\": 8.5, \"Ana\": 6.0, \"Luis\": 3.8, \"Marta\": 9.2, \"Pedro\": 5.5}\n",
    "\n",
    "# Diccionario para almacenar la clasificación\n",
    "clasificacion = {\"Aprobado\": [], \"Suspenso\": []}\n",
    "\n",
    "for k, v in estudiantes.items():\n",
    "    if v<5:\n",
    "        clasificacion['Suspenso'].append(k)\n",
    "    else:\n",
    "        clasificacion['Aprobado'].append(k)\n",
    "\n",
    "print('CLASIFICACIÓN:')\n",
    "print('----------------')\n",
    "print('\\n')\n",
    "print('Aprobados:')\n",
    "print('----------------')\n",
    "for v in clasificacion['Aprobado']:\n",
    "    print(v)\n",
    "    \n",
    "print('\\n')\n",
    "print('Suspensos:')\n",
    "print('----------------')\n",
    "for v in clasificacion['Suspenso']:\n",
    "    print(v)\n",
    "\n"
   ]
  },
  {
   "cell_type": "markdown",
   "id": "d599ca8c",
   "metadata": {},
   "source": [
    "## Tabla de multiplicar del número dado"
   ]
  },
  {
   "cell_type": "code",
   "execution_count": 52,
   "id": "8c3be118",
   "metadata": {
    "scrolled": true
   },
   "outputs": [
    {
     "name": "stdout",
     "output_type": "stream",
     "text": [
      "introduzca un número:4\n",
      "4 x 0 = 0\n",
      "4 x 1 = 4\n",
      "4 x 2 = 8\n",
      "4 x 3 = 12\n",
      "4 x 4 = 16\n",
      "4 x 5 = 20\n",
      "4 x 6 = 24\n",
      "4 x 7 = 28\n",
      "4 x 8 = 32\n",
      "4 x 9 = 36\n",
      "4 x 10 = 40\n"
     ]
    }
   ],
   "source": [
    "x=0\n",
    "num1=int(input('introduzca un número:'))\n",
    "while x<=10:\n",
    "    print(num1, 'x', x, '=', num1*x)\n",
    "    x=x+1"
   ]
  },
  {
   "cell_type": "markdown",
   "id": "832e36f4",
   "metadata": {},
   "source": [
    "## Contador de número de veces que aparece una vocales en una frase "
   ]
  },
  {
   "cell_type": "code",
   "execution_count": 65,
   "id": "568a5919",
   "metadata": {},
   "outputs": [
    {
     "name": "stdout",
     "output_type": "stream",
     "text": [
      "Introduce una cadena de texto: Hola, me llamo Segismunda.\n",
      "\n",
      "\n",
      "NÚMERO DE VOCALES:\n",
      "----------------\n",
      "Se repite a : 3 veces en el texto. \n",
      "Se repite e : 2 veces en el texto. \n",
      "Se repite i : 1 veces en el texto. \n",
      "Se repite o : 2 veces en el texto. \n",
      "Se repite u : 1 veces en el texto. \n"
     ]
    }
   ],
   "source": [
    "# Pedir al usuario una cadena de texto y contar las vocales\n",
    "texto = input(\"Introduce una cadena de texto: \").lower()\n",
    "vocales = {'a': 0, 'e': 0, 'i': 0, 'o': 0, 'u': 0}\n",
    "for letra in texto: \n",
    "    if letra in vocales:\n",
    "        vocales[letra]+=1\n",
    "print('\\n')        \n",
    "print('NÚMERO DE VOCALES:')\n",
    "print('----------------')\n",
    "for k, v in vocales.items():\n",
    "    print('Se repite', k, ':', v, 'veces en el texto. ')"
   ]
  },
  {
   "cell_type": "markdown",
   "id": "75707f69",
   "metadata": {},
   "source": [
    "## adivinar la palabra"
   ]
  },
  {
   "cell_type": "code",
   "execution_count": 1,
   "id": "dbe601a1",
   "metadata": {},
   "outputs": [],
   "source": [
    "import random"
   ]
  },
  {
   "cell_type": "code",
   "execution_count": null,
   "id": "32c46ec0",
   "metadata": {},
   "outputs": [
    {
     "name": "stdout",
     "output_type": "stream",
     "text": [
      "Palabra mezclada: jarezde\n"
     ]
    }
   ],
   "source": [
    "x=0\n",
    "while x<10:\n",
    "    fin=False\n",
    "    vida=0\n",
    "    lista = ['python', 'arduino', 'ajedrez', 'parchis', 'jugar']\n",
    "    palabra = random.choice(lista)\n",
    "    letras=list(palabra.lower())\n",
    "    random.shuffle(letras)\n",
    "    palabra_mezcla=''.join(letras)\n",
    "    print('Palabra mezclada:', palabra_mezcla)\n",
    "    while fin == False:\n",
    "        while vida<3 and fin==False:\n",
    "            intento = str(input(\"Escriba una palabra: \")).lower()\n",
    "            if intento == palabra:\n",
    "                print('Correcta')\n",
    "                fin = True\n",
    "                x+=1\n",
    "            else:\n",
    "                print('Incorrecta')\n",
    "                vida+=1\n",
    "        if vida==3:\n",
    "            print('Incorrecta')\n",
    "            print('Fin del juego. Has gastado todas las vidas.')\n",
    "            fin=True\n",
    "            x+=1"
   ]
  },
  {
   "cell_type": "code",
   "execution_count": null,
   "id": "9018538d",
   "metadata": {},
   "outputs": [],
   "source": []
  }
 ],
 "metadata": {
  "kernelspec": {
   "display_name": "Python 3 (ipykernel)",
   "language": "python",
   "name": "python3"
  },
  "language_info": {
   "codemirror_mode": {
    "name": "ipython",
    "version": 3
   },
   "file_extension": ".py",
   "mimetype": "text/x-python",
   "name": "python",
   "nbconvert_exporter": "python",
   "pygments_lexer": "ipython3",
   "version": "3.8.16"
  }
 },
 "nbformat": 4,
 "nbformat_minor": 5
}
